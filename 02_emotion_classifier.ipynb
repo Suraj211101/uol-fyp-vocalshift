{
 "cells": [
  {
   "cell_type": "markdown",
   "id": "2bd3a8bb-8d38-498b-bd28-c4c0f5322d0e",
   "metadata": {},
   "source": [
    "# CM3070 Computer Science Final Project\n",
    "# 02 Emotion Classifier\n",
    "\n",
    "---\n",
    "\n",
    "## **Table of Contents**  \n",
    "1. [Introduction](#introduction)  \n",
    "2. [Objectives](#objectives)  \n",
    "3. [Setup and dependencies](#setup-and-dependencies)  \n",
    "   - [Installing dependencies](#installing-dependencies)  \n",
    "   - [Setting up file paths](#setting-up-file-paths)    \n",
    "4. [Loading and preprocessing audio tracks](#loading-and-preprocessing-audio)  \n",
    "   - [Loading the NPY files](#loading-npy)\n",
    "   - [Normalising features](#normalising-features)\n",
    "   - [Defining the test-train split](#defining-the-test-train-split)\n",
    "5. [Creating a baseline CNN Model](#creating-a-baseline-cnn-model)\n",
    "   - [Defining the model](#defining-the-model)\n",
    "   - [Building and training the model](#building-and-training-a-baseline-model)\n",
    "   - [Evaluating the baseline model](#evaluating-the-baseline-model)\n",
    "6. [Creating a refined CNN Model](#creating-a-refined-cnn-model)\n",
    "   - [Introducing hyperparameter tuning](#introducing-hyperparameter-tuning)\n",
    "   - [Implementing k-fold cross validation](#implementing-k-fold-cross-validation)\n",
    "   - [Building and training the refined model](#building-and-training-the-refined-model)\n",
    "   - [Evaluating the refined model](#evaluating-the-refined-model)\n",
    "7. [Summary and next steps](#summary)"
   ]
  },
  {
   "cell_type": "markdown",
   "id": "d14b1180",
   "metadata": {},
   "source": [
    "---\n",
    "\n",
    "## 1. Introduction <a id=\"introduction\"></a>\n",
    "\n",
    "This notebook marks the second stage of a larger project on **Neural Style Transfer (NST) in Speech**, where the emotional tone of one voice is transferred to another. To evaluate the success of this transformation, we need a reliable model that can classify emotions in speech based on audio features alone.\n",
    "\n",
    "Here, we focus on building an ** emotion classifier** that can recognize emotions such as *neutral*, *happy*, and *sad* from speech recordings. Using the **CREMA-D** and **RAVDESS** datasets — professionally recorded corpura of emotional speech — we train a convolutional neural network (CNN) to learn from **mel-spectrogram** inputs. This model will later be used to verify whether stylised speech outputs have adopted the intended emotional tone.\n",
    "\n",
    "---\n",
    "\n",
    "## 2. Objectives <a id=\"objectives\"></a>\n",
    "\n",
    "- Load preprocessed mel-spectrogram `.npy` files representing different emotions from the CREMA-D and RAVDESS datasets\n",
    "- Split the data into training and test sets for supervised learning\n",
    "- Design and implement a CNN-based model architecture for classifying emotional speech\n",
    "- Use hyperparameter tuning to choose the best parameters to produce a model of high accuracy\n",
    "- Train the model using k-fold cross validation for maximum use of the available data\n",
    "- Monitor its performance using classification reports and confusion matrices\n",
    "- Save the trained classifier for downstream use in evaluating style transfer results\n",
    "\n",
    "This classifier will play a key role in the project’s evaluation strategy by providing a quantitative method to assess the emotional accuracy of stylised outputs generated via neural style transfer.\n",
    "\n",
    "---\n",
    "\n",
    "## 3. Setup and dependencies <a id=\"setup-and-dependencies\"></a>\n",
    "### Installing dependencies <a id=\"installing-dependencies\"></a>\n",
    "In this cell, we install the necessary Python packages for:\n",
    "\n",
    "- the core deep learning library used to build and train neural network models (`tensorflow`)\n",
    "- the utility functions such as train-test splitting and evaluation metrics (`scikit-learn`)\n",
    "- tuning hyperparameters of Keras models (`keras-tuner`)  \n",
    "- statistical data visualization (`seaborn`)  \n",
    "- creating and customizing plots (`matplotlib`)"
   ]
  },
  {
   "cell_type": "code",
   "execution_count": 1,
   "id": "b0691541",
   "metadata": {},
   "outputs": [],
   "source": [
    "!pip install tensorflow scikit-learn keras-tuner seaborn matplotlib --quiet"
   ]
  },
  {
   "cell_type": "markdown",
   "id": "97b2c709-badb-40b9-be7c-072ee277d089",
   "metadata": {},
   "source": [
    "### Setting up file paths <a id=\"setting-up-file-paths\"></a>\n",
    "We will define the path to the .npy files created in the last notebook:"
   ]
  },
  {
   "cell_type": "code",
   "execution_count": 2,
   "id": "da853619-476c-452b-a85b-ed13a6f327f4",
   "metadata": {},
   "outputs": [],
   "source": [
    "import os\n",
    "\n",
    "# define base paths\n",
    "NPYS_DIR = \"npys/\""
   ]
  },
  {
   "cell_type": "markdown",
   "id": "22907f4a-6e14-4e7a-bb69-6171b935e8b0",
   "metadata": {},
   "source": [
    "---\n",
    "\n",
    "## 4. Loading and preprocessing audio tracks <a id=\"loading-and-preprocessing-audio\"></a>\n",
    "### Loading the NPY files <a id=\"loading-npy\"></a>\n",
    "We load the pre-extracted mel-spectrograms for the selected emotions and create corresponding numerical labels, returning arrays `X` (features) and `y` (labels) ready for model training."
   ]
  },
  {
   "cell_type": "code",
   "execution_count": 3,
   "id": "7a1150ed-bc8a-4b2a-984d-f33c78f40778",
   "metadata": {},
   "outputs": [
    {
     "name": "stdout",
     "output_type": "stream",
     "text": [
      "Loaded: (1122, 80, 256) (1122,)\n"
     ]
    }
   ],
   "source": [
    "import numpy as np\n",
    "import tensorflow as tf\n",
    "\n",
    "# list of 6 emotions\n",
    "selected_emotions = ['neutral', 'happy', 'sad', 'angry', 'fearful', 'disgust']\n",
    "emotion_labels = {label: i for i, label in enumerate(selected_emotions)}\n",
    "\n",
    "def load_data(npy_dir=NPYS_DIR):\n",
    "    X, y = [], []\n",
    "    for emotion in os.listdir(npy_dir):\n",
    "        if emotion not in selected_emotions:\n",
    "            continue\n",
    "        emotion_dir = os.path.join(npy_dir, emotion)\n",
    "        if not os.path.isdir(emotion_dir):\n",
    "            continue\n",
    "        for file in os.listdir(emotion_dir):\n",
    "            if file.endswith(\".npy\"):\n",
    "                filepath = os.path.join(emotion_dir, file)\n",
    "                features = np.load(filepath, allow_pickle=True).item()\n",
    "                mel = features[\"mel\"]\n",
    "                X.append(mel)\n",
    "                y.append(emotion)\n",
    "    X = np.stack(X, axis=0).astype(\"float32\")\n",
    "    y = np.array([emotion_labels[label] for label in y])\n",
    "    return X, y\n",
    "\n",
    "X, y = load_data(NPYS_DIR)\n",
    "print(\"Loaded:\", X.shape, y.shape)"
   ]
  },
  {
   "cell_type": "markdown",
   "id": "279b1b95-ec56-43d6-b2f0-17a7871b95d8",
   "metadata": {},
   "source": [
    "### Normalising features <a id=\"normalising-features\"></a>\n",
    "We standardize the feature array `X` to have zero mean and unit variance, and set `num_classes` to the number of selected emotions for classification."
   ]
  },
  {
   "cell_type": "code",
   "execution_count": 4,
   "id": "eb7301d1-fa2e-4ed3-a486-066371e89988",
   "metadata": {},
   "outputs": [],
   "source": [
    "X = (X - np.mean(X)) / np.std(X)\n",
    "\n",
    "num_classes = len(selected_emotions)"
   ]
  },
  {
   "cell_type": "markdown",
   "id": "c3e9975d-d673-4c1e-8df8-e98f82c9e7de",
   "metadata": {},
   "source": [
    "### Defining the test-train split <a id=\"defining-the-test-train-split\"></a>\n",
    "We split the dataset into training and testing sets (80/20) while preserving class proportions."
   ]
  },
  {
   "cell_type": "code",
   "execution_count": 5,
   "id": "5e196d95-d2d8-4d25-83e9-6b4822d67dd2",
   "metadata": {},
   "outputs": [],
   "source": [
    "from sklearn.model_selection import train_test_split\n",
    "from tensorflow.keras.utils import to_categorical\n",
    "\n",
    "X_train, X_test, y_train, y_test = train_test_split(\n",
    "    X, y, test_size=0.2, stratify=y, random_state=42\n",
    ")\n",
    "\n",
    "X_train = X_train[..., np.newaxis]\n",
    "X_test  = X_test[..., np.newaxis]\n",
    "\n",
    "y_train = to_categorical(y_train, num_classes=num_classes)\n",
    "y_test  = to_categorical(y_test, num_classes=num_classes)"
   ]
  },
  {
   "cell_type": "markdown",
   "id": "5a1cc31b-0a8e-4dc4-ab43-a7365098834f",
   "metadata": {},
   "source": [
    "---\n",
    "\n",
    "## 5. Creating a baseline CNN Model <a id=\"creating-a-baseline-cnn-model\"></a>\n",
    "### Defining the model <a id=\"defining-the-model\"></a>\n",
    "We define a convolutional neural network (CNN) for emotion classification:\n",
    "\n",
    "- The model consists of multiple convolutional layers with ReLU activation and max-pooling.  \n",
    "- A flattening layer converts feature maps to a 1D vector.  \n",
    "- A dense hidden layer with dropout is added to reduce overfitting.  \n",
    "- The output layer uses softmax activation to predict probabilities for each emotion class.  \n",
    "- The model is compiled with the Adam optimizer, categorical crossentropy loss, and accuracy as the evaluation metric."
   ]
  },
  {
   "cell_type": "code",
   "execution_count": 6,
   "id": "d61895f4-d88a-4f7e-8523-3a9b34e3d192",
   "metadata": {},
   "outputs": [],
   "source": [
    "from tensorflow.keras import layers, models\n",
    "\n",
    "def build_cnn_model(\n",
    "    input_shape=(80, 256, 1),\n",
    "    num_classes=num_classes,\n",
    "    filters=[32, 64, 128],\n",
    "    dense_units=128,\n",
    "    dropout_rate=0.3,\n",
    "    learning_rate=1e-3\n",
    "):\n",
    "    model = models.Sequential()\n",
    "    model.add(layers.Input(shape=input_shape))\n",
    "\n",
    "    for f in filters:\n",
    "        model.add(layers.Conv2D(f, (3,3), activation=\"relu\", padding=\"same\"))\n",
    "        model.add(layers.MaxPooling2D((2,2)))\n",
    "\n",
    "    model.add(layers.Flatten())\n",
    "    model.add(layers.Dense(dense_units, activation=\"relu\"))\n",
    "    model.add(layers.Dropout(dropout_rate))\n",
    "    model.add(layers.Dense(num_classes, activation=\"softmax\"))\n",
    "\n",
    "    opt = tf.keras.optimizers.Adam(learning_rate=learning_rate)\n",
    "    model.compile(optimizer=opt,\n",
    "                  loss=\"categorical_crossentropy\",\n",
    "                  metrics=[\"accuracy\"])\n",
    "    return model"
   ]
  },
  {
   "cell_type": "markdown",
   "id": "d7eebf5a-0b83-4e73-84e2-a48cc0d5a32b",
   "metadata": {},
   "source": [
    "### Building and training the model <a id=\"building-and-training-a-baseline-model\"></a>\n",
    "We build the CNN using the previously defined function, display its architecture, and train it on the prepared dataset."
   ]
  },
  {
   "cell_type": "code",
   "execution_count": 7,
   "id": "a986c6a0-5b1c-4f94-829b-020ab05062d8",
   "metadata": {},
   "outputs": [
    {
     "data": {
      "text/html": [
       "<pre style=\"white-space:pre;overflow-x:auto;line-height:normal;font-family:Menlo,'DejaVu Sans Mono',consolas,'Courier New',monospace\"><span style=\"font-weight: bold\">Model: \"sequential\"</span>\n",
       "</pre>\n"
      ],
      "text/plain": [
       "\u001b[1mModel: \"sequential\"\u001b[0m\n"
      ]
     },
     "metadata": {},
     "output_type": "display_data"
    },
    {
     "data": {
      "text/html": [
       "<pre style=\"white-space:pre;overflow-x:auto;line-height:normal;font-family:Menlo,'DejaVu Sans Mono',consolas,'Courier New',monospace\">┏━━━━━━━━━━━━━━━━━━━━━━━━━━━━━━━━━┳━━━━━━━━━━━━━━━━━━━━━━━━┳━━━━━━━━━━━━━━━┓\n",
       "┃<span style=\"font-weight: bold\"> Layer (type)                    </span>┃<span style=\"font-weight: bold\"> Output Shape           </span>┃<span style=\"font-weight: bold\">       Param # </span>┃\n",
       "┡━━━━━━━━━━━━━━━━━━━━━━━━━━━━━━━━━╇━━━━━━━━━━━━━━━━━━━━━━━━╇━━━━━━━━━━━━━━━┩\n",
       "│ conv2d (<span style=\"color: #0087ff; text-decoration-color: #0087ff\">Conv2D</span>)                 │ (<span style=\"color: #00d7ff; text-decoration-color: #00d7ff\">None</span>, <span style=\"color: #00af00; text-decoration-color: #00af00\">80</span>, <span style=\"color: #00af00; text-decoration-color: #00af00\">256</span>, <span style=\"color: #00af00; text-decoration-color: #00af00\">32</span>)    │           <span style=\"color: #00af00; text-decoration-color: #00af00\">320</span> │\n",
       "├─────────────────────────────────┼────────────────────────┼───────────────┤\n",
       "│ max_pooling2d (<span style=\"color: #0087ff; text-decoration-color: #0087ff\">MaxPooling2D</span>)    │ (<span style=\"color: #00d7ff; text-decoration-color: #00d7ff\">None</span>, <span style=\"color: #00af00; text-decoration-color: #00af00\">40</span>, <span style=\"color: #00af00; text-decoration-color: #00af00\">128</span>, <span style=\"color: #00af00; text-decoration-color: #00af00\">32</span>)    │             <span style=\"color: #00af00; text-decoration-color: #00af00\">0</span> │\n",
       "├─────────────────────────────────┼────────────────────────┼───────────────┤\n",
       "│ conv2d_1 (<span style=\"color: #0087ff; text-decoration-color: #0087ff\">Conv2D</span>)               │ (<span style=\"color: #00d7ff; text-decoration-color: #00d7ff\">None</span>, <span style=\"color: #00af00; text-decoration-color: #00af00\">40</span>, <span style=\"color: #00af00; text-decoration-color: #00af00\">128</span>, <span style=\"color: #00af00; text-decoration-color: #00af00\">64</span>)    │        <span style=\"color: #00af00; text-decoration-color: #00af00\">18,496</span> │\n",
       "├─────────────────────────────────┼────────────────────────┼───────────────┤\n",
       "│ max_pooling2d_1 (<span style=\"color: #0087ff; text-decoration-color: #0087ff\">MaxPooling2D</span>)  │ (<span style=\"color: #00d7ff; text-decoration-color: #00d7ff\">None</span>, <span style=\"color: #00af00; text-decoration-color: #00af00\">20</span>, <span style=\"color: #00af00; text-decoration-color: #00af00\">64</span>, <span style=\"color: #00af00; text-decoration-color: #00af00\">64</span>)     │             <span style=\"color: #00af00; text-decoration-color: #00af00\">0</span> │\n",
       "├─────────────────────────────────┼────────────────────────┼───────────────┤\n",
       "│ conv2d_2 (<span style=\"color: #0087ff; text-decoration-color: #0087ff\">Conv2D</span>)               │ (<span style=\"color: #00d7ff; text-decoration-color: #00d7ff\">None</span>, <span style=\"color: #00af00; text-decoration-color: #00af00\">20</span>, <span style=\"color: #00af00; text-decoration-color: #00af00\">64</span>, <span style=\"color: #00af00; text-decoration-color: #00af00\">128</span>)    │        <span style=\"color: #00af00; text-decoration-color: #00af00\">73,856</span> │\n",
       "├─────────────────────────────────┼────────────────────────┼───────────────┤\n",
       "│ max_pooling2d_2 (<span style=\"color: #0087ff; text-decoration-color: #0087ff\">MaxPooling2D</span>)  │ (<span style=\"color: #00d7ff; text-decoration-color: #00d7ff\">None</span>, <span style=\"color: #00af00; text-decoration-color: #00af00\">10</span>, <span style=\"color: #00af00; text-decoration-color: #00af00\">32</span>, <span style=\"color: #00af00; text-decoration-color: #00af00\">128</span>)    │             <span style=\"color: #00af00; text-decoration-color: #00af00\">0</span> │\n",
       "├─────────────────────────────────┼────────────────────────┼───────────────┤\n",
       "│ flatten (<span style=\"color: #0087ff; text-decoration-color: #0087ff\">Flatten</span>)               │ (<span style=\"color: #00d7ff; text-decoration-color: #00d7ff\">None</span>, <span style=\"color: #00af00; text-decoration-color: #00af00\">40960</span>)          │             <span style=\"color: #00af00; text-decoration-color: #00af00\">0</span> │\n",
       "├─────────────────────────────────┼────────────────────────┼───────────────┤\n",
       "│ dense (<span style=\"color: #0087ff; text-decoration-color: #0087ff\">Dense</span>)                   │ (<span style=\"color: #00d7ff; text-decoration-color: #00d7ff\">None</span>, <span style=\"color: #00af00; text-decoration-color: #00af00\">128</span>)            │     <span style=\"color: #00af00; text-decoration-color: #00af00\">5,243,008</span> │\n",
       "├─────────────────────────────────┼────────────────────────┼───────────────┤\n",
       "│ dropout (<span style=\"color: #0087ff; text-decoration-color: #0087ff\">Dropout</span>)               │ (<span style=\"color: #00d7ff; text-decoration-color: #00d7ff\">None</span>, <span style=\"color: #00af00; text-decoration-color: #00af00\">128</span>)            │             <span style=\"color: #00af00; text-decoration-color: #00af00\">0</span> │\n",
       "├─────────────────────────────────┼────────────────────────┼───────────────┤\n",
       "│ dense_1 (<span style=\"color: #0087ff; text-decoration-color: #0087ff\">Dense</span>)                 │ (<span style=\"color: #00d7ff; text-decoration-color: #00d7ff\">None</span>, <span style=\"color: #00af00; text-decoration-color: #00af00\">6</span>)              │           <span style=\"color: #00af00; text-decoration-color: #00af00\">774</span> │\n",
       "└─────────────────────────────────┴────────────────────────┴───────────────┘\n",
       "</pre>\n"
      ],
      "text/plain": [
       "┏━━━━━━━━━━━━━━━━━━━━━━━━━━━━━━━━━┳━━━━━━━━━━━━━━━━━━━━━━━━┳━━━━━━━━━━━━━━━┓\n",
       "┃\u001b[1m \u001b[0m\u001b[1mLayer (type)                   \u001b[0m\u001b[1m \u001b[0m┃\u001b[1m \u001b[0m\u001b[1mOutput Shape          \u001b[0m\u001b[1m \u001b[0m┃\u001b[1m \u001b[0m\u001b[1m      Param #\u001b[0m\u001b[1m \u001b[0m┃\n",
       "┡━━━━━━━━━━━━━━━━━━━━━━━━━━━━━━━━━╇━━━━━━━━━━━━━━━━━━━━━━━━╇━━━━━━━━━━━━━━━┩\n",
       "│ conv2d (\u001b[38;5;33mConv2D\u001b[0m)                 │ (\u001b[38;5;45mNone\u001b[0m, \u001b[38;5;34m80\u001b[0m, \u001b[38;5;34m256\u001b[0m, \u001b[38;5;34m32\u001b[0m)    │           \u001b[38;5;34m320\u001b[0m │\n",
       "├─────────────────────────────────┼────────────────────────┼───────────────┤\n",
       "│ max_pooling2d (\u001b[38;5;33mMaxPooling2D\u001b[0m)    │ (\u001b[38;5;45mNone\u001b[0m, \u001b[38;5;34m40\u001b[0m, \u001b[38;5;34m128\u001b[0m, \u001b[38;5;34m32\u001b[0m)    │             \u001b[38;5;34m0\u001b[0m │\n",
       "├─────────────────────────────────┼────────────────────────┼───────────────┤\n",
       "│ conv2d_1 (\u001b[38;5;33mConv2D\u001b[0m)               │ (\u001b[38;5;45mNone\u001b[0m, \u001b[38;5;34m40\u001b[0m, \u001b[38;5;34m128\u001b[0m, \u001b[38;5;34m64\u001b[0m)    │        \u001b[38;5;34m18,496\u001b[0m │\n",
       "├─────────────────────────────────┼────────────────────────┼───────────────┤\n",
       "│ max_pooling2d_1 (\u001b[38;5;33mMaxPooling2D\u001b[0m)  │ (\u001b[38;5;45mNone\u001b[0m, \u001b[38;5;34m20\u001b[0m, \u001b[38;5;34m64\u001b[0m, \u001b[38;5;34m64\u001b[0m)     │             \u001b[38;5;34m0\u001b[0m │\n",
       "├─────────────────────────────────┼────────────────────────┼───────────────┤\n",
       "│ conv2d_2 (\u001b[38;5;33mConv2D\u001b[0m)               │ (\u001b[38;5;45mNone\u001b[0m, \u001b[38;5;34m20\u001b[0m, \u001b[38;5;34m64\u001b[0m, \u001b[38;5;34m128\u001b[0m)    │        \u001b[38;5;34m73,856\u001b[0m │\n",
       "├─────────────────────────────────┼────────────────────────┼───────────────┤\n",
       "│ max_pooling2d_2 (\u001b[38;5;33mMaxPooling2D\u001b[0m)  │ (\u001b[38;5;45mNone\u001b[0m, \u001b[38;5;34m10\u001b[0m, \u001b[38;5;34m32\u001b[0m, \u001b[38;5;34m128\u001b[0m)    │             \u001b[38;5;34m0\u001b[0m │\n",
       "├─────────────────────────────────┼────────────────────────┼───────────────┤\n",
       "│ flatten (\u001b[38;5;33mFlatten\u001b[0m)               │ (\u001b[38;5;45mNone\u001b[0m, \u001b[38;5;34m40960\u001b[0m)          │             \u001b[38;5;34m0\u001b[0m │\n",
       "├─────────────────────────────────┼────────────────────────┼───────────────┤\n",
       "│ dense (\u001b[38;5;33mDense\u001b[0m)                   │ (\u001b[38;5;45mNone\u001b[0m, \u001b[38;5;34m128\u001b[0m)            │     \u001b[38;5;34m5,243,008\u001b[0m │\n",
       "├─────────────────────────────────┼────────────────────────┼───────────────┤\n",
       "│ dropout (\u001b[38;5;33mDropout\u001b[0m)               │ (\u001b[38;5;45mNone\u001b[0m, \u001b[38;5;34m128\u001b[0m)            │             \u001b[38;5;34m0\u001b[0m │\n",
       "├─────────────────────────────────┼────────────────────────┼───────────────┤\n",
       "│ dense_1 (\u001b[38;5;33mDense\u001b[0m)                 │ (\u001b[38;5;45mNone\u001b[0m, \u001b[38;5;34m6\u001b[0m)              │           \u001b[38;5;34m774\u001b[0m │\n",
       "└─────────────────────────────────┴────────────────────────┴───────────────┘\n"
      ]
     },
     "metadata": {},
     "output_type": "display_data"
    },
    {
     "data": {
      "text/html": [
       "<pre style=\"white-space:pre;overflow-x:auto;line-height:normal;font-family:Menlo,'DejaVu Sans Mono',consolas,'Courier New',monospace\"><span style=\"font-weight: bold\"> Total params: </span><span style=\"color: #00af00; text-decoration-color: #00af00\">5,336,454</span> (20.36 MB)\n",
       "</pre>\n"
      ],
      "text/plain": [
       "\u001b[1m Total params: \u001b[0m\u001b[38;5;34m5,336,454\u001b[0m (20.36 MB)\n"
      ]
     },
     "metadata": {},
     "output_type": "display_data"
    },
    {
     "data": {
      "text/html": [
       "<pre style=\"white-space:pre;overflow-x:auto;line-height:normal;font-family:Menlo,'DejaVu Sans Mono',consolas,'Courier New',monospace\"><span style=\"font-weight: bold\"> Trainable params: </span><span style=\"color: #00af00; text-decoration-color: #00af00\">5,336,454</span> (20.36 MB)\n",
       "</pre>\n"
      ],
      "text/plain": [
       "\u001b[1m Trainable params: \u001b[0m\u001b[38;5;34m5,336,454\u001b[0m (20.36 MB)\n"
      ]
     },
     "metadata": {},
     "output_type": "display_data"
    },
    {
     "data": {
      "text/html": [
       "<pre style=\"white-space:pre;overflow-x:auto;line-height:normal;font-family:Menlo,'DejaVu Sans Mono',consolas,'Courier New',monospace\"><span style=\"font-weight: bold\"> Non-trainable params: </span><span style=\"color: #00af00; text-decoration-color: #00af00\">0</span> (0.00 B)\n",
       "</pre>\n"
      ],
      "text/plain": [
       "\u001b[1m Non-trainable params: \u001b[0m\u001b[38;5;34m0\u001b[0m (0.00 B)\n"
      ]
     },
     "metadata": {},
     "output_type": "display_data"
    },
    {
     "name": "stdout",
     "output_type": "stream",
     "text": [
      "Epoch 1/30\n",
      "\u001b[1m23/23\u001b[0m \u001b[32m━━━━━━━━━━━━━━━━━━━━\u001b[0m\u001b[37m\u001b[0m \u001b[1m3s\u001b[0m 85ms/step - accuracy: 0.1819 - loss: 2.1306 - val_accuracy: 0.1833 - val_loss: 1.7951\n",
      "Epoch 2/30\n",
      "\u001b[1m23/23\u001b[0m \u001b[32m━━━━━━━━━━━━━━━━━━━━\u001b[0m\u001b[37m\u001b[0m \u001b[1m2s\u001b[0m 81ms/step - accuracy: 0.1928 - loss: 1.7879 - val_accuracy: 0.2444 - val_loss: 1.7406\n",
      "Epoch 3/30\n",
      "\u001b[1m23/23\u001b[0m \u001b[32m━━━━━━━━━━━━━━━━━━━━\u001b[0m\u001b[37m\u001b[0m \u001b[1m2s\u001b[0m 81ms/step - accuracy: 0.2538 - loss: 1.7397 - val_accuracy: 0.2944 - val_loss: 1.6571\n",
      "Epoch 4/30\n",
      "\u001b[1m23/23\u001b[0m \u001b[32m━━━━━━━━━━━━━━━━━━━━\u001b[0m\u001b[37m\u001b[0m \u001b[1m2s\u001b[0m 83ms/step - accuracy: 0.3053 - loss: 1.6503 - val_accuracy: 0.3611 - val_loss: 1.5758\n",
      "Epoch 5/30\n",
      "\u001b[1m23/23\u001b[0m \u001b[32m━━━━━━━━━━━━━━━━━━━━\u001b[0m\u001b[37m\u001b[0m \u001b[1m2s\u001b[0m 82ms/step - accuracy: 0.3315 - loss: 1.5959 - val_accuracy: 0.3667 - val_loss: 1.5431\n",
      "Epoch 6/30\n",
      "\u001b[1m23/23\u001b[0m \u001b[32m━━━━━━━━━━━━━━━━━━━━\u001b[0m\u001b[37m\u001b[0m \u001b[1m2s\u001b[0m 79ms/step - accuracy: 0.3981 - loss: 1.4596 - val_accuracy: 0.4111 - val_loss: 1.4833\n",
      "Epoch 7/30\n",
      "\u001b[1m23/23\u001b[0m \u001b[32m━━━━━━━━━━━━━━━━━━━━\u001b[0m\u001b[37m\u001b[0m \u001b[1m2s\u001b[0m 79ms/step - accuracy: 0.4590 - loss: 1.3462 - val_accuracy: 0.4278 - val_loss: 1.4072\n",
      "Epoch 8/30\n",
      "\u001b[1m23/23\u001b[0m \u001b[32m━━━━━━━━━━━━━━━━━━━━\u001b[0m\u001b[37m\u001b[0m \u001b[1m2s\u001b[0m 78ms/step - accuracy: 0.4922 - loss: 1.2268 - val_accuracy: 0.4278 - val_loss: 1.3690\n",
      "Epoch 9/30\n",
      "\u001b[1m23/23\u001b[0m \u001b[32m━━━━━━━━━━━━━━━━━━━━\u001b[0m\u001b[37m\u001b[0m \u001b[1m2s\u001b[0m 78ms/step - accuracy: 0.5565 - loss: 1.1446 - val_accuracy: 0.4778 - val_loss: 1.3673\n",
      "Epoch 10/30\n",
      "\u001b[1m23/23\u001b[0m \u001b[32m━━━━━━━━━━━━━━━━━━━━\u001b[0m\u001b[37m\u001b[0m \u001b[1m2s\u001b[0m 78ms/step - accuracy: 0.6267 - loss: 0.9640 - val_accuracy: 0.4667 - val_loss: 1.3273\n",
      "Epoch 11/30\n",
      "\u001b[1m23/23\u001b[0m \u001b[32m━━━━━━━━━━━━━━━━━━━━\u001b[0m\u001b[37m\u001b[0m \u001b[1m2s\u001b[0m 81ms/step - accuracy: 0.6828 - loss: 0.8818 - val_accuracy: 0.4500 - val_loss: 1.4662\n",
      "Epoch 12/30\n",
      "\u001b[1m23/23\u001b[0m \u001b[32m━━━━━━━━━━━━━━━━━━━━\u001b[0m\u001b[37m\u001b[0m \u001b[1m2s\u001b[0m 80ms/step - accuracy: 0.6743 - loss: 0.7946 - val_accuracy: 0.4889 - val_loss: 1.4693\n",
      "Epoch 13/30\n",
      "\u001b[1m23/23\u001b[0m \u001b[32m━━━━━━━━━━━━━━━━━━━━\u001b[0m\u001b[37m\u001b[0m \u001b[1m2s\u001b[0m 77ms/step - accuracy: 0.7529 - loss: 0.6838 - val_accuracy: 0.4778 - val_loss: 1.4176\n",
      "Epoch 14/30\n",
      "\u001b[1m23/23\u001b[0m \u001b[32m━━━━━━━━━━━━━━━━━━━━\u001b[0m\u001b[37m\u001b[0m \u001b[1m2s\u001b[0m 78ms/step - accuracy: 0.7226 - loss: 0.6747 - val_accuracy: 0.4500 - val_loss: 1.7077\n",
      "Epoch 15/30\n",
      "\u001b[1m23/23\u001b[0m \u001b[32m━━━━━━━━━━━━━━━━━━━━\u001b[0m\u001b[37m\u001b[0m \u001b[1m2s\u001b[0m 78ms/step - accuracy: 0.7447 - loss: 0.6499 - val_accuracy: 0.4722 - val_loss: 1.5881\n",
      "Epoch 16/30\n",
      "\u001b[1m23/23\u001b[0m \u001b[32m━━━━━━━━━━━━━━━━━━━━\u001b[0m\u001b[37m\u001b[0m \u001b[1m2s\u001b[0m 77ms/step - accuracy: 0.7958 - loss: 0.5036 - val_accuracy: 0.5056 - val_loss: 1.5365\n",
      "Epoch 17/30\n",
      "\u001b[1m23/23\u001b[0m \u001b[32m━━━━━━━━━━━━━━━━━━━━\u001b[0m\u001b[37m\u001b[0m \u001b[1m2s\u001b[0m 79ms/step - accuracy: 0.8391 - loss: 0.4681 - val_accuracy: 0.4444 - val_loss: 1.5998\n",
      "Epoch 18/30\n",
      "\u001b[1m23/23\u001b[0m \u001b[32m━━━━━━━━━━━━━━━━━━━━\u001b[0m\u001b[37m\u001b[0m \u001b[1m2s\u001b[0m 80ms/step - accuracy: 0.8262 - loss: 0.4848 - val_accuracy: 0.4722 - val_loss: 1.9579\n",
      "Epoch 19/30\n",
      "\u001b[1m23/23\u001b[0m \u001b[32m━━━━━━━━━━━━━━━━━━━━\u001b[0m\u001b[37m\u001b[0m \u001b[1m2s\u001b[0m 82ms/step - accuracy: 0.8219 - loss: 0.4068 - val_accuracy: 0.4722 - val_loss: 1.9386\n",
      "Epoch 20/30\n",
      "\u001b[1m23/23\u001b[0m \u001b[32m━━━━━━━━━━━━━━━━━━━━\u001b[0m\u001b[37m\u001b[0m \u001b[1m2s\u001b[0m 84ms/step - accuracy: 0.8741 - loss: 0.3285 - val_accuracy: 0.5167 - val_loss: 1.9599\n",
      "Epoch 21/30\n",
      "\u001b[1m23/23\u001b[0m \u001b[32m━━━━━━━━━━━━━━━━━━━━\u001b[0m\u001b[37m\u001b[0m \u001b[1m2s\u001b[0m 80ms/step - accuracy: 0.8739 - loss: 0.3277 - val_accuracy: 0.4889 - val_loss: 1.9280\n",
      "Epoch 22/30\n",
      "\u001b[1m23/23\u001b[0m \u001b[32m━━━━━━━━━━━━━━━━━━━━\u001b[0m\u001b[37m\u001b[0m \u001b[1m2s\u001b[0m 78ms/step - accuracy: 0.8528 - loss: 0.3612 - val_accuracy: 0.4778 - val_loss: 2.2733\n",
      "Epoch 23/30\n",
      "\u001b[1m23/23\u001b[0m \u001b[32m━━━━━━━━━━━━━━━━━━━━\u001b[0m\u001b[37m\u001b[0m \u001b[1m2s\u001b[0m 78ms/step - accuracy: 0.8929 - loss: 0.2620 - val_accuracy: 0.4500 - val_loss: 2.4144\n",
      "Epoch 24/30\n",
      "\u001b[1m23/23\u001b[0m \u001b[32m━━━━━━━━━━━━━━━━━━━━\u001b[0m\u001b[37m\u001b[0m \u001b[1m2s\u001b[0m 78ms/step - accuracy: 0.9119 - loss: 0.2427 - val_accuracy: 0.4944 - val_loss: 2.5236\n",
      "Epoch 25/30\n",
      "\u001b[1m23/23\u001b[0m \u001b[32m━━━━━━━━━━━━━━━━━━━━\u001b[0m\u001b[37m\u001b[0m \u001b[1m2s\u001b[0m 78ms/step - accuracy: 0.9144 - loss: 0.2240 - val_accuracy: 0.4833 - val_loss: 2.5933\n",
      "Epoch 26/30\n",
      "\u001b[1m23/23\u001b[0m \u001b[32m━━━━━━━━━━━━━━━━━━━━\u001b[0m\u001b[37m\u001b[0m \u001b[1m2s\u001b[0m 78ms/step - accuracy: 0.9108 - loss: 0.2582 - val_accuracy: 0.5111 - val_loss: 2.2644\n",
      "Epoch 27/30\n",
      "\u001b[1m23/23\u001b[0m \u001b[32m━━━━━━━━━━━━━━━━━━━━\u001b[0m\u001b[37m\u001b[0m \u001b[1m2s\u001b[0m 78ms/step - accuracy: 0.9243 - loss: 0.1738 - val_accuracy: 0.5111 - val_loss: 2.3919\n",
      "Epoch 28/30\n",
      "\u001b[1m23/23\u001b[0m \u001b[32m━━━━━━━━━━━━━━━━━━━━\u001b[0m\u001b[37m\u001b[0m \u001b[1m2s\u001b[0m 80ms/step - accuracy: 0.9207 - loss: 0.1892 - val_accuracy: 0.5222 - val_loss: 2.4424\n",
      "Epoch 29/30\n",
      "\u001b[1m23/23\u001b[0m \u001b[32m━━━━━━━━━━━━━━━━━━━━\u001b[0m\u001b[37m\u001b[0m \u001b[1m2s\u001b[0m 81ms/step - accuracy: 0.8968 - loss: 0.2316 - val_accuracy: 0.4722 - val_loss: 2.8851\n",
      "Epoch 30/30\n",
      "\u001b[1m23/23\u001b[0m \u001b[32m━━━━━━━━━━━━━━━━━━━━\u001b[0m\u001b[37m\u001b[0m \u001b[1m2s\u001b[0m 78ms/step - accuracy: 0.9110 - loss: 0.2225 - val_accuracy: 0.5111 - val_loss: 2.4574\n"
     ]
    }
   ],
   "source": [
    "model = build_cnn_model()\n",
    "model.summary()\n",
    "\n",
    "history = model.fit(\n",
    "    X_train, y_train,\n",
    "    validation_split=0.2,\n",
    "    epochs=30,\n",
    "    batch_size=32,\n",
    "    verbose=1\n",
    ")"
   ]
  },
  {
   "cell_type": "markdown",
   "id": "a1ca7d69-adf9-4d8a-83d8-3929f062aa4d",
   "metadata": {},
   "source": [
    "### Evaluating the baseline model <a id=\"evaluating-the-baseline-model\"></a>\n",
    "We assess the baseline model on the test set by:\n",
    "- computing **test loss and accuracy** to measure overall performance,\n",
    "- generating **predicted classes** and compare with true labels,\n",
    "- printing a **classification report** showing precision, recall, and F1-score for each emotion, and\n",
    "- creating a **confusion matrix** heatmap to visualize prediction errors across classes."
   ]
  },
  {
   "cell_type": "code",
   "execution_count": 8,
   "id": "988c0817-67f3-46e2-9583-28a3f89a54eb",
   "metadata": {
    "scrolled": true
   },
   "outputs": [
    {
     "name": "stdout",
     "output_type": "stream",
     "text": [
      "\u001b[1m8/8\u001b[0m \u001b[32m━━━━━━━━━━━━━━━━━━━━\u001b[0m\u001b[37m\u001b[0m \u001b[1m0s\u001b[0m 19ms/step - accuracy: 0.4779 - loss: 2.5723\n",
      "Baseline Test Accuracy: 0.4978\n",
      "Baseline Test Loss: 2.5083\n",
      "\u001b[1m8/8\u001b[0m \u001b[32m━━━━━━━━━━━━━━━━━━━━\u001b[0m\u001b[37m\u001b[0m \u001b[1m0s\u001b[0m 21ms/step\n",
      "              precision    recall  f1-score   support\n",
      "\n",
      "     neutral       0.67      0.70      0.68        37\n",
      "       happy       0.29      0.32      0.30        37\n",
      "         sad       0.46      0.45      0.45        38\n",
      "       angry       0.74      0.61      0.67        38\n",
      "     fearful       0.44      0.39      0.42        38\n",
      "     disgust       0.45      0.51      0.48        37\n",
      "\n",
      "    accuracy                           0.50       225\n",
      "   macro avg       0.51      0.50      0.50       225\n",
      "weighted avg       0.51      0.50      0.50       225\n",
      "\n"
     ]
    },
    {
     "data": {
      "image/png": "[encoded data removed]",
      "text/plain": [
       "<Figure size 800x600 with 2 Axes>"
      ]
     },
     "metadata": {},
     "output_type": "display_data"
    }
   ],
   "source": [
    "import matplotlib.pyplot as plt\n",
    "import seaborn as sns\n",
    "from sklearn.metrics import classification_report, confusion_matrix\n",
    "\n",
    "# evaluate on hold-out test set\n",
    "test_loss, test_acc = model.evaluate(X_test, y_test, verbose=1)\n",
    "print(f\"Baseline Test Accuracy: {test_acc:.4f}\")\n",
    "print(f\"Baseline Test Loss: {test_loss:.4f}\")\n",
    "\n",
    "# predictions\n",
    "y_pred = model.predict(X_test)\n",
    "y_pred_classes = np.argmax(y_pred, axis=1)\n",
    "y_true = np.argmax(y_test, axis=1)\n",
    "\n",
    "# classification report\n",
    "print(classification_report(y_true, y_pred_classes, target_names=selected_emotions))\n",
    "\n",
    "# confusion matrix\n",
    "cm = confusion_matrix(y_true, y_pred_classes)\n",
    "plt.figure(figsize=(8,6))\n",
    "sns.heatmap(cm, annot=True, fmt=\"d\", cmap=\"Blues\",\n",
    "            xticklabels=selected_emotions, yticklabels=selected_emotions)\n",
    "plt.xlabel(\"Predicted\")\n",
    "plt.ylabel(\"True\")\n",
    "plt.title(\"Baseline Confusion Matrix\")\n",
    "plt.show()"
   ]
  },
  {
   "cell_type": "markdown",
   "id": "94c74201-ae19-4592-a836-49139de1f9a6",
   "metadata": {},
   "source": [
    "---\n",
    "\n",
    "## 6. Creating a refined CNN Model <a id=\"creating-a-refined-cnn-model\"></a>\n",
    "### Introducing hyperparameter tuning <a id=\"introducing-hyperparameter-tuning\"></a>\n",
    "We perform hyperparameter tuning as part of the refined CNN model - allowing us to do a random search to optimize its hyperparameters. The specific parameters tuned include:\n",
    "\n",
    "- the number of convolutional filters in each layer (`filters1`, `filters2`, `filters3`)  \n",
    "- the number of units in the dense (fully connected) layer (`dense_units`)  \n",
    "- the dropout rate for regularization (`dropout`)  \n",
    "- the learning rate for the Adam optimizer (`lr`)\n",
    "\n",
    "Once iterated through 10 trials, the best hyperparameters found are displayed, to be used in the next stage."
   ]
  },
  {
   "cell_type": "code",
   "execution_count": 9,
   "id": "5bd55a40-cab7-4a9c-9489-52d3914eee9c",
   "metadata": {},
   "outputs": [
    {
     "name": "stdout",
     "output_type": "stream",
     "text": [
      "Trial 10 Complete [00h 00m 17s]\n",
      "val_accuracy: 0.4888888895511627\n",
      "\n",
      "Best val_accuracy So Far: 0.5666666626930237\n",
      "Total elapsed time: 00h 04m 00s\n",
      "Best hyperparameters found: {'filters1': 32, 'filters2': 32, 'filters3': 128, 'dense_units': 64, 'dropout': 0.2, 'lr': 0.001}\n"
     ]
    }
   ],
   "source": [
    "import keras_tuner as kt\n",
    "\n",
    "def model_builder(hp):\n",
    "    return build_cnn_model(\n",
    "        filters=[\n",
    "            hp.Choice('filters1', [16, 32]),\n",
    "            hp.Choice('filters2', [32, 64]),\n",
    "            hp.Choice('filters3', [64, 128])\n",
    "        ],\n",
    "        dense_units=hp.Int('dense_units', 64, 192, step=64),\n",
    "        dropout_rate=hp.Float('dropout', 0.2, 0.5, step=0.1),\n",
    "        learning_rate=hp.Choice('lr', [1e-4, 5e-4, 1e-3])\n",
    "    )\n",
    "\n",
    "tuner = kt.RandomSearch(\n",
    "    model_builder,\n",
    "    objective=\"val_accuracy\",\n",
    "    max_trials=10,\n",
    "    executions_per_trial=1,\n",
    "    overwrite=True,\n",
    "    directory=\"tuner_logs\",\n",
    "    project_name=\"emotion_cnn\"\n",
    ")\n",
    "\n",
    "# launch hyperparameter search\n",
    "tuner.search(\n",
    "    X_train, y_train,\n",
    "    validation_split=0.2,  # 20% used for validation during tuning\n",
    "    epochs=20,\n",
    "    batch_size=32\n",
    ")\n",
    "\n",
    "best_hps = tuner.get_best_hyperparameters(num_trials=1)[0]\n",
    "print(\"Best hyperparameters found:\", best_hps.values)"
   ]
  },
  {
   "cell_type": "markdown",
   "id": "ceb2af4f-8bfc-4d9d-b3d4-97546bae01e2",
   "metadata": {},
   "source": [
    "### Implementing k-fold cross validation <a id=\"implementing-k-fold-cross-validation\"></a>\n",
    "We perform stratified k-fold cross-validation to evaluate the CNN model. The dataset is divided into **5 folds**, keeping class proportions balanced. For each fold, the model is trained on 4 folds and validated on the remaining fold. Validation accuracies are recorded for all folds to assess overall performance."
   ]
  },
  {
   "cell_type": "code",
   "execution_count": 10,
   "id": "69062e52-edbc-44a2-874a-fa711c3ed4de",
   "metadata": {},
   "outputs": [],
   "source": [
    "from sklearn.model_selection import StratifiedKFold\n",
    "from tensorflow.keras.models import load_model\n",
    "\n",
    "def run_kfold_cv(X, y, k=5, hyperparams=None, epochs=20, batch_size=32, save_best_model=False, save_path=\"best_model.keras\"):\n",
    "    \"\"\"\n",
    "    Runs k-fold cross-validation with the given hyperparameters.\n",
    "    Returns a list of fold accuracies.\n",
    "    Optionally saves the model from the best-performing fold.\n",
    "    \"\"\"\n",
    "    if hyperparams is None:\n",
    "        hyperparams = {}\n",
    "\n",
    "    skf = StratifiedKFold(n_splits=k, shuffle=True, random_state=42)\n",
    "    cv_accuracies = []\n",
    "    best_acc = -1\n",
    "    best_model = None\n",
    "\n",
    "    for fold, (train_idx, val_idx) in enumerate(skf.split(X, y), 1):\n",
    "        print(f\"\\n===== Fold {fold} =====\")\n",
    "        X_train, X_val = X[train_idx], X[val_idx]\n",
    "        y_train, y_val = y[train_idx], y[val_idx]\n",
    "\n",
    "        X_train = X_train[..., np.newaxis]\n",
    "        X_val   = X_val[..., np.newaxis]\n",
    "        y_train = to_categorical(y_train, num_classes=num_classes)\n",
    "        y_val   = to_categorical(y_val, num_classes=num_classes)\n",
    "\n",
    "        model = build_cnn_model(**hyperparams)\n",
    "        model.fit(\n",
    "            X_train, y_train,\n",
    "            validation_data=(X_val, y_val),\n",
    "            epochs=epochs,\n",
    "            batch_size=batch_size,\n",
    "            verbose=0\n",
    "        )\n",
    "\n",
    "        val_acc = model.evaluate(X_val, y_val, verbose=0)[1]\n",
    "        print(f\"Fold {fold} val_acc: {val_acc:.4f}\")\n",
    "        cv_accuracies.append(val_acc)\n",
    "\n",
    "        # save the best fold model\n",
    "        if save_best_model and val_acc > best_acc:\n",
    "            best_acc = val_acc\n",
    "            best_model = model\n",
    "\n",
    "    print(\"\\n=== Cross-validation results ===\")\n",
    "    print(\"Mean accuracy:\", np.mean(cv_accuracies))\n",
    "    print(\"Std deviation:\", np.std(cv_accuracies))\n",
    "\n",
    "    if save_best_model and best_model is not None:\n",
    "        best_model.save(save_path)\n",
    "        print(f\"Best model saved to {save_path} with accuracy {best_acc:.4f}\")\n",
    "\n",
    "    return cv_accuracies"
   ]
  },
  {
   "cell_type": "markdown",
   "id": "5e85d8ea-8c5d-4a8b-866f-92d3735e30f1",
   "metadata": {},
   "source": [
    "### Building and training the refined model <a id=\"building-and-training-the-refined-model\"></a>\n",
    "The best hyperparameters found earlier are used to train the refined model using 5-fold cross validation - a combination of both techniques covered so far. The best-performing model, `emotion_cnn_best.keras`, is saved for later use."
   ]
  },
  {
   "cell_type": "code",
   "execution_count": 11,
   "id": "88e24491-ff5a-4a8e-bab9-67dfc987aaf4",
   "metadata": {},
   "outputs": [
    {
     "name": "stdout",
     "output_type": "stream",
     "text": [
      "\n",
      "Running tuned k-fold cross validation...\n",
      "\n",
      "===== Fold 1 =====\n",
      "Fold 1 val_acc: 0.5689\n",
      "\n",
      "===== Fold 2 =====\n",
      "Fold 2 val_acc: 0.5289\n",
      "\n",
      "===== Fold 3 =====\n",
      "Fold 3 val_acc: 0.6027\n",
      "\n",
      "===== Fold 4 =====\n",
      "Fold 4 val_acc: 0.4777\n",
      "\n",
      "===== Fold 5 =====\n",
      "Fold 5 val_acc: 0.5357\n",
      "\n",
      "=== Cross-validation results ===\n",
      "Mean accuracy: 0.5427698433399201\n",
      "Std deviation: 0.041834436768429566\n",
      "Best model saved to emotion_cnn_best.keras with accuracy 0.6027\n",
      "Tuned CV Mean Accuracy: 0.5427698433399201\n",
      "Best Fold Accuracy: 0.6026785969734192\n"
     ]
    }
   ],
   "source": [
    "best_hyperparams = {\n",
    "    \"filters\": [\n",
    "        best_hps.get('filters1'),\n",
    "        best_hps.get('filters2'),\n",
    "        best_hps.get('filters3')\n",
    "    ],\n",
    "    \"dense_units\": best_hps.get('dense_units'),\n",
    "    \"dropout_rate\": best_hps.get('dropout'),\n",
    "    \"learning_rate\": best_hps.get('lr')\n",
    "}\n",
    "\n",
    "print(\"\\nRunning tuned k-fold cross validation...\")\n",
    "tuned_cv_accs = run_kfold_cv(\n",
    "    X, y, k=5,\n",
    "    hyperparams=best_hyperparams,\n",
    "    epochs=20,\n",
    "    batch_size=32,\n",
    "    save_best_model=True,\n",
    "    save_path=\"emotion_cnn_best.keras\"\n",
    ")\n",
    "\n",
    "print(\"Tuned CV Mean Accuracy:\", np.mean(tuned_cv_accs))\n",
    "print(\"Best Fold Accuracy:\", np.max(tuned_cv_accs))"
   ]
  },
  {
   "cell_type": "markdown",
   "id": "c64910b5-6f9e-4e51-b5cc-6cbb06a8c7e4",
   "metadata": {},
   "source": [
    "### Evaluating the refined model <a id=\"evaluating-the-refined-model\"></a>\n",
    "Similar to the evaluation of the baseline model, we assess the performance of the refined model on the test set by:\n",
    "- computing **test loss and accuracy** to measure overall performance,\n",
    "- generating **predicted classes** and compare with true labels,\n",
    "- printing a **classification report** showing precision, recall, and F1-score for each emotion, and\n",
    "- creating a **confusion matrix** heatmap to visualize prediction errors across classes."
   ]
  },
  {
   "cell_type": "code",
   "execution_count": 12,
   "id": "07b25b99-c865-436a-a5a9-b8e5c81ec782",
   "metadata": {},
   "outputs": [
    {
     "name": "stdout",
     "output_type": "stream",
     "text": [
      "\u001b[1m8/8\u001b[0m \u001b[32m━━━━━━━━━━━━━━━━━━━━\u001b[0m\u001b[37m\u001b[0m \u001b[1m0s\u001b[0m 13ms/step - accuracy: 0.8771 - loss: 0.5292\n",
      "Final Test Accuracy: 0.8933\n",
      "Final Test Loss: 0.5034\n",
      "\u001b[1m8/8\u001b[0m \u001b[32m━━━━━━━━━━━━━━━━━━━━\u001b[0m\u001b[37m\u001b[0m \u001b[1m0s\u001b[0m 16ms/step\n",
      "\n",
      "Classification Report:\n",
      "              precision    recall  f1-score   support\n",
      "\n",
      "     neutral       0.97      0.95      0.96        37\n",
      "       happy       0.82      0.89      0.86        37\n",
      "         sad       0.92      0.87      0.89        38\n",
      "       angry       0.84      1.00      0.92        38\n",
      "     fearful       0.91      0.84      0.88        38\n",
      "     disgust       0.91      0.81      0.86        37\n",
      "\n",
      "    accuracy                           0.89       225\n",
      "   macro avg       0.90      0.89      0.89       225\n",
      "weighted avg       0.90      0.89      0.89       225\n",
      "\n"
     ]
    },
    {
     "data": {
      "image/png": "[encoded data removed]",
      "text/plain": [
       "<Figure size 800x600 with 2 Axes>"
      ]
     },
     "metadata": {},
     "output_type": "display_data"
    }
   ],
   "source": [
    "from tensorflow.keras.models import load_model\n",
    "\n",
    "# load the best fold model\n",
    "final_model = load_model(\"emotion_cnn_best.keras\")\n",
    "\n",
    "# evaluate on hold-out test set\n",
    "test_loss, test_acc = final_model.evaluate(X_test, y_test, verbose=1)\n",
    "print(f\"Final Test Accuracy: {test_acc:.4f}\")\n",
    "print(f\"Final Test Loss: {test_loss:.4f}\")\n",
    "\n",
    "# predictions\n",
    "y_pred = final_model.predict(X_test)\n",
    "y_pred_classes = np.argmax(y_pred, axis=1)\n",
    "y_true = np.argmax(y_test, axis=1)\n",
    "\n",
    "# classification report\n",
    "print(\"\\nClassification Report:\")\n",
    "print(classification_report(y_true, y_pred_classes, target_names=selected_emotions))\n",
    "\n",
    "# confusion matrix\n",
    "cm = confusion_matrix(y_true, y_pred_classes)\n",
    "plt.figure(figsize=(8,6))\n",
    "sns.heatmap(cm, annot=True, fmt=\"d\", cmap=\"Blues\",\n",
    "            xticklabels=selected_emotions, yticklabels=selected_emotions)\n",
    "plt.xlabel(\"Predicted\")\n",
    "plt.ylabel(\"True\")\n",
    "plt.title(\"Confusion Matrix - Final Model\")\n",
    "plt.show()"
   ]
  },
  {
   "cell_type": "markdown",
   "id": "bf705e37-f72a-4b49-801c-5d3c04f6bbe4",
   "metadata": {},
   "source": [
    "---\n",
    "\n",
    "## 7. Summary and next steps <a id=\"summary\"></a>\n",
    "\n",
    "### Summary\n",
    "We have successfully built a convolutional neural network (CNN) model capable of classifying emotional speech into six categories:\n",
    "- neutral\n",
    "- happy\n",
    "- sad\n",
    "- angry\n",
    "- fearful\n",
    "- disgust\n",
    "\n",
    "Using mel-spectrograms derived from the CREMA-D and RAVDESS datasets, the model demonstrates promising performance, making it a reliable tool for evaluating emotion-related transformations in audio. The trained model has been saved (as *emotion_cnn_best.keras*) and is ready for use in downstream tasks.\n",
    "\n",
    "### Next steps\n",
    "In the following stage of the project, we will implement a neural style transfer mechanism that applies the prosodic and emotional \"style\" of one audio sample onto the content of another. The emotion classifier developed in this notebook will be used to assess whether the stylised outputs successfully convey the intended target emotion."
   ]
  }
 ],
 "metadata": {
  "kernelspec": {
   "display_name": "Python 3 (ipykernel)",
   "language": "python",
   "name": "python3"
  },
  "language_info": {
   "codemirror_mode": {
    "name": "ipython",
    "version": 3
   },
   "file_extension": ".py",
   "mimetype": "text/x-python",
   "name": "python",
   "nbconvert_exporter": "python",
   "pygments_lexer": "ipython3",
   "version": "3.12.7"
  }
 },
 "nbformat": 4,
 "nbformat_minor": 5
}
